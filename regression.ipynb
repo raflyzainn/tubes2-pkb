{
 "cells": [
  {
   "cell_type": "markdown",
   "id": "0998ab93",
   "metadata": {},
   "source": [
    "# <center>Assessment CLO-3: Tugas Pemrograman Learning</center>"
   ]
  },
  {
   "cell_type": "markdown",
   "id": "b9dd2c3d",
   "metadata": {},
   "source": [
    "<b>Topik</b>\n",
    "[Klasifikasi/Regresi] pada [nama dataset] menggunakan [nama metode]]\n",
    "\n",
    "<b>Kelompok: </b>\n",
    "\n",
    "Anggota:\n",
    "1. Nama - NIM\n",
    "2. Nama - NIM\n",
    "3. Nama - NIM"
   ]
  },
  {
   "cell_type": "markdown",
   "id": "f67c8e8d",
   "metadata": {},
   "source": [
    "#### Pendahuluan\n",
    "Silahkan double click cell ini dan perkenalkan dataset yang Anda pilih, beserta masalah apa yang ingin diselesaikan!\n",
    "\n",
    "Jelaskan pula bagaimana Anda mengolah data serta membaginya untuk tahap training dan testing!"
   ]
  },
  {
   "cell_type": "code",
   "execution_count": null,
   "id": "bd1c9727",
   "metadata": {},
   "outputs": [],
   "source": [
    "# Show your data in tabular or other visualization ways\n",
    "# Data Preprocessing\n",
    "# Data Splitting\n",
    "# Write your code here\n",
    "\n"
   ]
  },
  {
   "cell_type": "code",
   "execution_count": null,
   "id": "228d9ced",
   "metadata": {},
   "outputs": [],
   "source": []
  },
  {
   "cell_type": "markdown",
   "id": "691b437e",
   "metadata": {},
   "source": [
    "#### Metode yang Digunakan\n",
    "Silahkan double click cell ini dan jelaskan metode yang Anda pilih, disertai penjelasan mengenai setting parameter yang ditentukan!"
   ]
  },
  {
   "cell_type": "code",
   "execution_count": null,
   "id": "348c59c4",
   "metadata": {},
   "outputs": [],
   "source": [
    "# Experiment Settings\n",
    "# Write your code here\n",
    "\n"
   ]
  },
  {
   "cell_type": "code",
   "execution_count": null,
   "id": "27ae8626",
   "metadata": {},
   "outputs": [],
   "source": [
    "# Model Training\n",
    "# Save the trained model\n",
    "# Write your code here\n",
    "\n"
   ]
  },
  {
   "cell_type": "code",
   "execution_count": null,
   "id": "db175b05",
   "metadata": {},
   "outputs": [],
   "source": [
    "# Model Testing and Evaluation\n",
    "# Show the performance\n",
    "# Write your code here\n",
    "\n"
   ]
  },
  {
   "cell_type": "markdown",
   "id": "c5526cf7",
   "metadata": {},
   "source": [
    "#### Hasil dan Analisis\n",
    "Silahkan double click cell ini dan tulis hasil dan analisis!\n",
    "\n",
    "Tampilkan performa yang dihasilkan, bisa dalam tabel dan grafik, diukur berdasarkan metrik evaluasi yang dipakai.\n",
    "\n",
    "Tuliskan hasil analisis Anda."
   ]
  },
  {
   "cell_type": "markdown",
   "id": "8a255fe5",
   "metadata": {},
   "source": [
    "#### Kesimpulan\n",
    "Silahkan double click cell ini dan tulis kesimpulan berdasarkan hasil percobaan yang Anda lakukan!"
   ]
  },
  {
   "cell_type": "markdown",
   "id": "5241e91d",
   "metadata": {},
   "source": []
  }
 ],
 "metadata": {
  "kernelspec": {
   "display_name": "Python 3 (ipykernel)",
   "language": "python",
   "name": "python3"
  },
  "language_info": {
   "codemirror_mode": {
    "name": "ipython",
    "version": 3
   },
   "file_extension": ".py",
   "mimetype": "text/x-python",
   "name": "python",
   "nbconvert_exporter": "python",
   "pygments_lexer": "ipython3",
   "version": "3.10.9"
  }
 },
 "nbformat": 4,
 "nbformat_minor": 5
}
